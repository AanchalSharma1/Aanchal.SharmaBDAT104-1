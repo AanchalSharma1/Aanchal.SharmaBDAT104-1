{
 "cells": [
  {
   "cell_type": "markdown",
   "metadata": {},
   "source": [
    "Question 1. What data type is each of the following?"
   ]
  },
  {
   "cell_type": "markdown",
   "metadata": {},
   "source": [
    "(1.1) 5"
   ]
  },
  {
   "cell_type": "code",
   "execution_count": 3,
   "metadata": {},
   "outputs": [
    {
     "name": "stdout",
     "output_type": "stream",
     "text": [
      "The given Data is <class 'int'> type\n"
     ]
    }
   ],
   "source": [
    "print(\"The given Data is\", type(5), \"type\")"
   ]
  },
  {
   "cell_type": "markdown",
   "metadata": {},
   "source": [
    "(1.2)  5.0"
   ]
  },
  {
   "cell_type": "code",
   "execution_count": 4,
   "metadata": {},
   "outputs": [
    {
     "name": "stdout",
     "output_type": "stream",
     "text": [
      "The Given Data is <class 'float'> type\n"
     ]
    }
   ],
   "source": [
    "print(\"The Given Data is\", type(5.0), \"type\")"
   ]
  },
  {
   "cell_type": "markdown",
   "metadata": {},
   "source": [
    "(1.3)  5>1"
   ]
  },
  {
   "cell_type": "code",
   "execution_count": 6,
   "metadata": {},
   "outputs": [
    {
     "name": "stdout",
     "output_type": "stream",
     "text": [
      "The given Data is <class 'bool'> type\n"
     ]
    }
   ],
   "source": [
    "print(\"The given Data is\", type(5>1), \"type\")"
   ]
  },
  {
   "cell_type": "markdown",
   "metadata": {},
   "source": [
    "(1.4)  '5'"
   ]
  },
  {
   "cell_type": "code",
   "execution_count": 7,
   "metadata": {},
   "outputs": [
    {
     "name": "stdout",
     "output_type": "stream",
     "text": [
      "The given Data is <class 'str'> type\n"
     ]
    }
   ],
   "source": [
    "print(\"The given Data is\",type('5'), \"type\")"
   ]
  },
  {
   "cell_type": "markdown",
   "metadata": {},
   "source": [
    "(1.5)  5*2"
   ]
  },
  {
   "cell_type": "code",
   "execution_count": 8,
   "metadata": {},
   "outputs": [
    {
     "name": "stdout",
     "output_type": "stream",
     "text": [
      "The given Data is <class 'int'> type\n"
     ]
    }
   ],
   "source": [
    "print(\"The given Data is\", type(5*2), \"type\")"
   ]
  },
  {
   "cell_type": "markdown",
   "metadata": {},
   "source": [
    "(1.6)    '5'*2"
   ]
  },
  {
   "cell_type": "code",
   "execution_count": 9,
   "metadata": {},
   "outputs": [
    {
     "name": "stdout",
     "output_type": "stream",
     "text": [
      "The given Data is <class 'str'> type\n"
     ]
    }
   ],
   "source": [
    "print(\"The given Data is\",type('5'*2),\"type\")"
   ]
  },
  {
   "cell_type": "markdown",
   "metadata": {},
   "source": [
    "(1.7)   '5' +'2'"
   ]
  },
  {
   "cell_type": "code",
   "execution_count": 10,
   "metadata": {},
   "outputs": [
    {
     "name": "stdout",
     "output_type": "stream",
     "text": [
      "The given Data is <class 'str'> type\n"
     ]
    }
   ],
   "source": [
    "print(\"The given Data is\", type('5'+'2'), \"type\")"
   ]
  },
  {
   "cell_type": "markdown",
   "metadata": {},
   "source": [
    "(1.8)   5/2"
   ]
  },
  {
   "cell_type": "code",
   "execution_count": 12,
   "metadata": {},
   "outputs": [
    {
     "name": "stdout",
     "output_type": "stream",
     "text": [
      "The given data is <class 'float'> type\n"
     ]
    }
   ],
   "source": [
    "print(\"The given data is\", type(5/2), \"type\")"
   ]
  },
  {
   "cell_type": "markdown",
   "metadata": {},
   "source": [
    "(1.9)   5//2"
   ]
  },
  {
   "cell_type": "code",
   "execution_count": 13,
   "metadata": {},
   "outputs": [
    {
     "name": "stdout",
     "output_type": "stream",
     "text": [
      "The given Data is <class 'int'> type\n"
     ]
    }
   ],
   "source": [
    "print(\"The given Data is\", type(5//2), \"type\")"
   ]
  },
  {
   "cell_type": "markdown",
   "metadata": {},
   "source": [
    "(1.10)  [5,2,1]"
   ]
  },
  {
   "cell_type": "code",
   "execution_count": 14,
   "metadata": {},
   "outputs": [
    {
     "name": "stdout",
     "output_type": "stream",
     "text": [
      "The given data is <class 'list'> type\n"
     ]
    }
   ],
   "source": [
    "print(\"The given data is\", type([5,2,1]), \"type\")"
   ]
  },
  {
   "cell_type": "markdown",
   "metadata": {},
   "source": [
    "(1.11) 5 in [1,4,6]"
   ]
  },
  {
   "cell_type": "code",
   "execution_count": 15,
   "metadata": {},
   "outputs": [
    {
     "name": "stdout",
     "output_type": "stream",
     "text": [
      "The given data is <class 'bool'> type\n"
     ]
    }
   ],
   "source": [
    "print(\"The given data is\", type(5 in[1,4,6]),\"type\")"
   ]
  },
  {
   "cell_type": "markdown",
   "metadata": {},
   "source": [
    "(1.12) math.pi"
   ]
  },
  {
   "cell_type": "code",
   "execution_count": 1,
   "metadata": {},
   "outputs": [
    {
     "name": "stdout",
     "output_type": "stream",
     "text": [
      "The given data is <class 'float'> type\n"
     ]
    }
   ],
   "source": [
    "import math\n",
    "print(\"The given data is\",type(math.pi),\"type\")"
   ]
  },
  {
   "cell_type": "markdown",
   "metadata": {},
   "source": []
  },
  {
   "cell_type": "markdown",
   "metadata": {},
   "source": [
    "Question 2. Write (and evaluate) Python expressions that answer these questions:"
   ]
  },
  {
   "cell_type": "markdown",
   "metadata": {},
   "source": [
    "a. How many letters are there in 'Supercalifragilisticexpialidocious'?"
   ]
  },
  {
   "cell_type": "code",
   "execution_count": 2,
   "metadata": {},
   "outputs": [
    {
     "name": "stdout",
     "output_type": "stream",
     "text": [
      "Please Enter your Own String : Supercalifragilisticexpialidocious\n",
      "\n",
      "Total Number of Alphabets in this String :   34\n",
      "Total Number of Digits in this String :   0\n",
      "Total Number of Special Characters in this String :   0\n"
     ]
    }
   ],
   "source": [
    "string = input(\"Please Enter your Own String : \")\n",
    "alphabets = digits = special = 0\n",
    "\n",
    "for i in range(len(string)):\n",
    "    if(string[i].isalpha()):\n",
    "        alphabets = alphabets + 1\n",
    "    elif(string[i].isdigit()):\n",
    "        digits = digits + 1\n",
    "    else:\n",
    "        special = special + 1\n",
    "        \n",
    "print(\"\\nTotal Number of Alphabets in this String :  \", alphabets)\n",
    "print(\"Total Number of Digits in this String :  \", digits)\n",
    "print(\"Total Number of Special Characters in this String :  \", special)"
   ]
  },
  {
   "cell_type": "markdown",
   "metadata": {},
   "source": [
    "b. Does 'Supercalifragilisticexpialidocious' contain 'ice' as a substring? "
   ]
  },
  {
   "cell_type": "code",
   "execution_count": 3,
   "metadata": {},
   "outputs": [
    {
     "name": "stdout",
     "output_type": "stream",
     "text": [
      "Enter the string :Supercalifragilisticexpialidocious\n",
      "Enter Substring :ice\n",
      "ice IS PRESENT IN THE GIVEN STRING\n"
     ]
    }
   ],
   "source": [
    "def check(str1, sstr): \n",
    "   if (str1.find(sstr) == -1): \n",
    "      print(sstr,\"IS NOT PRESENT IN THE GIVEN STRING\") \n",
    "   else: \n",
    "      print(sstr,\"IS PRESENT IN THE GIVEN STRING\") \n",
    " \n",
    "str1 = input(\"Enter the string :\")\n",
    "sstr=input(\"Enter Substring :\")\n",
    "check(str1, sstr)"
   ]
  },
  {
   "cell_type": "markdown",
   "metadata": {},
   "source": [
    "c. Which of the following words is the longest:\n",
    "Supercalifragilisticexpialidocious, Honorificabilitudinitatibus, or\n",
    "Bababadalgharaghtakamminarronnkonn? "
   ]
  },
  {
   "cell_type": "code",
   "execution_count": 4,
   "metadata": {},
   "outputs": [
    {
     "name": "stdout",
     "output_type": "stream",
     "text": [
      "Supercalifragilisticexpialidocious  is biggest from all\n"
     ]
    }
   ],
   "source": [
    "def find_longest_word(words_list):\n",
    "    word_len = []\n",
    "    for n in words_list:\n",
    "        word_len.append((len(n), n))\n",
    "    word_len.sort()\n",
    "    return word_len[-1][1]\n",
    "print(find_longest_word([\"Supercalifragilisticexpialidocious\", \"Honorificabilitudinitatibus\", \"Bababadalgharaghtakamminarronnkonn\"]),\" is biggest from all\")"
   ]
  },
  {
   "cell_type": "markdown",
   "metadata": {},
   "source": [
    "d. Which composer comes first in the dictionary: 'Berlioz', 'Borodin', 'Brian',\n",
    "'Bartok', 'Bellini', 'Buxtehude', 'Bernstein'. Which one comes last?\n"
   ]
  },
  {
   "cell_type": "code",
   "execution_count": 18,
   "metadata": {},
   "outputs": [
    {
     "ename": "SyntaxError",
     "evalue": "invalid syntax (<ipython-input-18-0682b2714a66>, line 2)",
     "output_type": "error",
     "traceback": [
      "\u001b[1;36m  File \u001b[1;32m\"<ipython-input-18-0682b2714a66>\"\u001b[1;36m, line \u001b[1;32m2\u001b[0m\n\u001b[1;33m    public class ABC\u001b[0m\n\u001b[1;37m           ^\u001b[0m\n\u001b[1;31mSyntaxError\u001b[0m\u001b[1;31m:\u001b[0m invalid syntax\n"
     ]
    }
   ],
   "source": [
    "import java.util.Scanner;\n",
    "public class ABC\n",
    "{\n",
    "    public static void main(String[] args) \n",
    "    { \n",
    "        int count;\n",
    "        String temp;\n",
    "        Scanner scan = new Scanner(System.in);\n",
    "         \n",
    "        System.out.print(\"Enter number of strings you would like to enter:\");\n",
    "        count = scan.nextInt();\n",
    "        \n",
    "        \n",
    "        String str[] = new String[count];\n",
    "        Scanner scan2 = new Scanner(System.in);\n",
    "        \n",
    "        System.out.println(\"Enter the Strings one by one:\");\n",
    "        for(int i = 0; i < count; i++)\n",
    "        {\n",
    "            str[i] = scan2.nextLine();\n",
    "        }\n",
    "        scan.close();\n",
    "        scan2.close();\n",
    "        \n",
    "        for (int i = 0; i < count; i++) \n",
    "        {\n",
    "            for (int j = i + 1; j < count; j++) { \n",
    "                if (str[i].compareTo(str[j])>0) \n",
    "                {\n",
    "                    temp = str[i];\n",
    "                    str[i] = str[j];\n",
    "                    str[j] = temp;\n",
    "                }\n",
    "            }\n",
    "        }\n",
    "        \n",
    "        System.out.print(\"Strings in Sorted Order:\");\n",
    "        for (int i = 0; i <= count - 1; i++) \n",
    "        {System.out.print(str[i] + \", \");\n",
    "        }\n",
    "    }\n",
    "}"
   ]
  },
  {
   "cell_type": "code",
   "execution_count": null,
   "metadata": {},
   "outputs": [],
   "source": []
  },
  {
   "cell_type": "code",
   "execution_count": null,
   "metadata": {},
   "outputs": [],
   "source": []
  }
 ],
 "metadata": {
  "kernelspec": {
   "display_name": "Python 3",
   "language": "python",
   "name": "python3"
  },
  "language_info": {
   "codemirror_mode": {
    "name": "ipython",
    "version": 3
   },
   "file_extension": ".py",
   "mimetype": "text/x-python",
   "name": "python",
   "nbconvert_exporter": "python",
   "pygments_lexer": "ipython3",
   "version": "3.8.6"
  }
 },
 "nbformat": 4,
 "nbformat_minor": 4
}
